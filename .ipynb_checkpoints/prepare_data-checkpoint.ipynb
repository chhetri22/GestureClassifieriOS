{
 "cells": [
  {
   "cell_type": "code",
   "execution_count": 33,
   "metadata": {},
   "outputs": [],
   "source": [
    "import pandas as pd\n",
    "import numpy as np\n",
    "import os"
   ]
  },
  {
   "cell_type": "code",
   "execution_count": 34,
   "metadata": {},
   "outputs": [],
   "source": [
    "def load_dataframe(filepath):\n",
    "    data = pd.read_csv(filepath, sep=\", \", header=None)\n",
    "    data[0] = data[0].apply(lambda x: x.replace(\"[(\", \"\"))\n",
    "    data[2] = data[2].apply(lambda x: x.replace(\")\", \"\"))\n",
    "    data[3] = data[3].apply(lambda x: x.replace(\"(\", \"\"))\n",
    "    data[5] = data[5].apply(lambda x: x.replace(\")]\", \"\"))\n",
    "    for i in range(len(data.columns)):\n",
    "        data[i] = data[i].apply(lambda x: int(x))\n",
    "    data.columns = ['accX', 'accY', 'accZ', 'gyrX', 'gyrY', 'gyrZ']\n",
    "    return data"
   ]
  },
  {
   "cell_type": "code",
   "execution_count": 35,
   "metadata": {},
   "outputs": [
    {
     "name": "stdout",
     "output_type": "stream",
     "text": [
      "Successfully created the directory data_csv/P9-FT \n",
      "Successfully created the directory data_csv/P9-LT \n"
     ]
    },
    {
     "name": "stderr",
     "output_type": "stream",
     "text": [
      "/Users/abishkarchhetri/code/research/GestureiOSData/venv/lib/python3.7/site-packages/ipykernel_launcher.py:2: ParserWarning: Falling back to the 'python' engine because the 'c' engine does not support regex separators (separators > 1 char and different from '\\s+' are interpreted as regex); you can avoid this warning by specifying engine='python'.\n",
      "  \n"
     ]
    },
    {
     "name": "stdout",
     "output_type": "stream",
     "text": [
      "Successfully created the directory data_csv/P12-LT \n",
      "Successfully created the directory data_csv/P12-FT \n",
      "Successfully created the directory data_csv/P4-RT \n",
      "Successfully created the directory data_csv/P5-RT \n",
      "Successfully created the directory data_csv/P8-FT \n",
      "Successfully created the directory data_csv/P8-LT \n",
      "Successfully created the directory data_csv/P1-RT \n",
      "Successfully created the directory data_csv/P3-FT \n",
      "Successfully created the directory data_csv/P3-LT \n",
      "Successfully created the directory data_csv/P7-FT \n",
      "Successfully created the directory data_csv/P11-RT \n",
      "Successfully created the directory data_csv/P7-LT \n",
      "Successfully created the directory data_csv/P6-FT \n",
      "Successfully created the directory data_csv/P10-RT \n",
      "Successfully created the directory data_csv/P6-LT \n",
      "Successfully created the directory data_csv/P2-FT \n",
      "Successfully created the directory data_csv/P2-LT \n",
      "Successfully created the directory data_csv/P5-FT \n",
      "Successfully created the directory data_csv/P5-LT \n",
      "Successfully created the directory data_csv/P1-FT \n",
      "Successfully created the directory data_csv/P8-RT \n",
      "Successfully created the directory data_csv/P1-LT \n",
      "Successfully created the directory data_csv/P9-RT \n",
      "Successfully created the directory data_csv/P12-RT \n",
      "Successfully created the directory data_csv/P4-FT \n",
      "Successfully created the directory data_csv/P4-LT \n",
      "Successfully created the directory data_csv/P10-LT \n",
      "Successfully created the directory data_csv/P6-RT \n",
      "Successfully created the directory data_csv/P10-FT \n",
      "Successfully created the directory data_csv/P2-RT \n",
      "Successfully created the directory data_csv/P3-RT \n",
      "Successfully created the directory data_csv/P11-LT \n",
      "Successfully created the directory data_csv/P7-RT \n",
      "Successfully created the directory data_csv/P11-FT \n"
     ]
    }
   ],
   "source": [
    "def create_folder(path):\n",
    "    try:  \n",
    "        os.mkdir(path)\n",
    "    except OSError:  \n",
    "        print (\"Creation of the directory %s failed\" % path)\n",
    "    else:  \n",
    "        print (\"Successfully created the directory %s \" % path)\n",
    "\n",
    "def convert_data_to_csv():\n",
    "    old_data_path = \"raw_data/\"\n",
    "    new_data_path = \"data_csv/\"\n",
    "\n",
    "    for fname in os.listdir(old_data_path): #P1-BFS, P2-FT, ...\n",
    "        if fname == \".DS_Store\":\n",
    "            continue\n",
    "        participant_no,label = fname.split(\"-\")\n",
    "        if label in [\"LT\",\"RT\",\"FT\"]:\n",
    "            session_path = os.path.join(old_data_path, fname) #\"raw_data/P1-BFS\"\n",
    "\n",
    "            #create same folder in new_data_path\n",
    "            new_folder_path = new_data_path+fname\n",
    "            create_folder(new_folder_path)\n",
    "\n",
    "            for fname2 in os.listdir(session_path): #bfs-1.txt, ...\n",
    "                filepath = os.path.join(session_path, fname2) #\"raw_data/P1-BFS/bfs-1.txt\"\n",
    "                df = load_dataframe(filepath)\n",
    "                df.to_csv(new_folder_path+\"/\"+fname2.split(\".\")[0]+\".csv\",index=False)\n",
    "        \n",
    "#convert_data_to_csv()"
   ]
  }
 ],
 "metadata": {
  "kernelspec": {
   "display_name": "GestureIOSData",
   "language": "python",
   "name": "gestureiosdata"
  },
  "language_info": {
   "codemirror_mode": {
    "name": "ipython",
    "version": 3
   },
   "file_extension": ".py",
   "mimetype": "text/x-python",
   "name": "python",
   "nbconvert_exporter": "python",
   "pygments_lexer": "ipython3",
   "version": "3.7.2"
  }
 },
 "nbformat": 4,
 "nbformat_minor": 2
}
