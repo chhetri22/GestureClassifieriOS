{
 "cells": [
  {
   "cell_type": "code",
   "execution_count": 117,
   "metadata": {},
   "outputs": [
    {
     "name": "stdout",
     "output_type": "stream",
     "text": [
      "Populating the interactive namespace from numpy and matplotlib\n"
     ]
    }
   ],
   "source": [
    "# all library for processing data\n",
    "import pandas as pd # lib for pandas dataframe\n",
    "import math # lib math for using math operation\n",
    "import matplotlib as plt # plotting library\n",
    "import numpy as np # numpy array library\n",
    "from scipy.interpolate import interp1d # lib for interopolation data\n",
    "from sklearn.metrics import classification_report, confusion_matrix # lib for showing classification report and confusion matrix\n",
    "from sklearn.model_selection import train_test_split # lib for splitting data training and data testing\n",
    "import sys # lib system information\n",
    "import collections\n",
    "import itertools # import iterattion tools\n",
    "from scipy.stats import mode #provides abstract base classes \n",
    "from dtw import dtw\n",
    "%pylab inline"
   ]
  },
  {
   "cell_type": "code",
   "execution_count": 118,
   "metadata": {},
   "outputs": [],
   "source": [
    "def show_basic_dataframe_info(dataframe):\n",
    "\n",
    "    # Shape and how many rows and columns\n",
    "    print('Number of columns in the dataframe: %i' % (dataframe.shape[1]))\n",
    "    print('Number of rows in the dataframe: %i\\n' % (dataframe.shape[0]))"
   ]
  },
  {
   "cell_type": "code",
   "execution_count": 119,
   "metadata": {},
   "outputs": [],
   "source": [
    "import os\n",
    "current_directory = os.getcwd()\n",
    "data_list = []\n",
    "\n",
    "for gesture in os.listdir(current_directory + \"/GestureDataTomasV2\"):\n",
    "    sample_number=0\n",
    "    for filename in os.listdir(current_directory + \"/GestureDataTomasV2/\"+ gesture):\n",
    "        sample_number += 1\n",
    "        with open (current_directory + \"/GestureDataTomasV2/\"+gesture+\"/{}\".format(filename), \"r\") as myfile:\n",
    "            data=myfile.readlines()\n",
    "            t = 1\n",
    "            for row in data:\n",
    "                row_data = eval(row)\n",
    "                accX,accY,accZ = row_data[0]\n",
    "                gyrX,gyrY,gyrZ = row_data[1]\n",
    "                data_list.append([t,gesture, sample_number,accX,accY,accZ,gyrX,gyrY,gyrZ])\n",
    "                t+=1\n",
    "            \n",
    "column_names = [\"timestamp\",\"label\", \"sample\",\"accX\",\"accY\",\"accZ\",\"gyrX\",\"gyrY\",\"gyrZ\"]\n",
    "df = pd.DataFrame(data=data_list,columns=column_names)"
   ]
  },
  {
   "cell_type": "code",
   "execution_count": 120,
   "metadata": {},
   "outputs": [
    {
     "name": "stdout",
     "output_type": "stream",
     "text": [
      "Number of columns in the dataframe: 9\n",
      "Number of rows in the dataframe: 7132\n",
      "\n"
     ]
    },
    {
     "data": {
      "text/html": [
       "<div>\n",
       "<style scoped>\n",
       "    .dataframe tbody tr th:only-of-type {\n",
       "        vertical-align: middle;\n",
       "    }\n",
       "\n",
       "    .dataframe tbody tr th {\n",
       "        vertical-align: top;\n",
       "    }\n",
       "\n",
       "    .dataframe thead th {\n",
       "        text-align: right;\n",
       "    }\n",
       "</style>\n",
       "<table border=\"1\" class=\"dataframe\">\n",
       "  <thead>\n",
       "    <tr style=\"text-align: right;\">\n",
       "      <th></th>\n",
       "      <th>timestamp</th>\n",
       "      <th>label</th>\n",
       "      <th>sample</th>\n",
       "      <th>accX</th>\n",
       "      <th>accY</th>\n",
       "      <th>accZ</th>\n",
       "      <th>gyrX</th>\n",
       "      <th>gyrY</th>\n",
       "      <th>gyrZ</th>\n",
       "    </tr>\n",
       "  </thead>\n",
       "  <tbody>\n",
       "    <tr>\n",
       "      <th>0</th>\n",
       "      <td>1</td>\n",
       "      <td>right</td>\n",
       "      <td>1</td>\n",
       "      <td>4499</td>\n",
       "      <td>15444</td>\n",
       "      <td>2349</td>\n",
       "      <td>-2</td>\n",
       "      <td>87</td>\n",
       "      <td>13</td>\n",
       "    </tr>\n",
       "    <tr>\n",
       "      <th>1</th>\n",
       "      <td>2</td>\n",
       "      <td>right</td>\n",
       "      <td>1</td>\n",
       "      <td>4481</td>\n",
       "      <td>15421</td>\n",
       "      <td>2380</td>\n",
       "      <td>-59</td>\n",
       "      <td>81</td>\n",
       "      <td>37</td>\n",
       "    </tr>\n",
       "    <tr>\n",
       "      <th>2</th>\n",
       "      <td>3</td>\n",
       "      <td>right</td>\n",
       "      <td>1</td>\n",
       "      <td>4481</td>\n",
       "      <td>15421</td>\n",
       "      <td>2380</td>\n",
       "      <td>-59</td>\n",
       "      <td>81</td>\n",
       "      <td>37</td>\n",
       "    </tr>\n",
       "    <tr>\n",
       "      <th>3</th>\n",
       "      <td>4</td>\n",
       "      <td>right</td>\n",
       "      <td>1</td>\n",
       "      <td>4481</td>\n",
       "      <td>15421</td>\n",
       "      <td>2380</td>\n",
       "      <td>-59</td>\n",
       "      <td>81</td>\n",
       "      <td>37</td>\n",
       "    </tr>\n",
       "    <tr>\n",
       "      <th>4</th>\n",
       "      <td>5</td>\n",
       "      <td>right</td>\n",
       "      <td>1</td>\n",
       "      <td>4481</td>\n",
       "      <td>15421</td>\n",
       "      <td>2380</td>\n",
       "      <td>-59</td>\n",
       "      <td>81</td>\n",
       "      <td>37</td>\n",
       "    </tr>\n",
       "  </tbody>\n",
       "</table>\n",
       "</div>"
      ],
      "text/plain": [
       "   timestamp  label  sample  accX   accY  accZ  gyrX  gyrY  gyrZ\n",
       "0          1  right       1  4499  15444  2349    -2    87    13\n",
       "1          2  right       1  4481  15421  2380   -59    81    37\n",
       "2          3  right       1  4481  15421  2380   -59    81    37\n",
       "3          4  right       1  4481  15421  2380   -59    81    37\n",
       "4          5  right       1  4481  15421  2380   -59    81    37"
      ]
     },
     "execution_count": 120,
     "metadata": {},
     "output_type": "execute_result"
    }
   ],
   "source": [
    "show_basic_dataframe_info(df)\n",
    "df.head()"
   ]
  },
  {
   "cell_type": "code",
   "execution_count": 121,
   "metadata": {},
   "outputs": [
    {
     "data": {
      "image/png": "[encoded data removed]",
      "text/plain": [
       "<Figure size 432x288 with 1 Axes>"
      ]
     },
     "metadata": {
      "needs_background": "light"
     },
     "output_type": "display_data"
    }
   ],
   "source": [
    "# Show how many training examples exist for each of the six activities\n",
    "df['label'].value_counts().plot(kind='bar',\n",
    "                                   title='Training Examples by label')\n",
    "plt.show()"
   ]
  },
  {
   "cell_type": "code",
   "execution_count": 122,
   "metadata": {},
   "outputs": [],
   "source": [
    "import matplotlib.pyplot as plt\n",
    "\n",
    "defaultColors = ['b', 'r', 'k', 'g', 'm']\n",
    "def plotDatasets(datasets, axes, title, xlabel, colors=defaultColors):\n",
    "    if len(datasets) > len(colors):\n",
    "       print('Too many datasets. Max %s.' % (len(colors)))\n",
    "       return\n",
    "    if len(datasets) != len(axes):\n",
    "       print('Number of datasets and axis names must match.')\n",
    "       return\n",
    "    for i in range(len(datasets)):\n",
    "       color = '%s-' % colors[i]\n",
    "       plt.plot(range(len(datasets[i])), datasets[i], color, label=axes[i])\n",
    "    plt.xlabel(xlabel)\n",
    "    plt.grid()\n",
    "    plt.title(title)\n",
    "    plt.legend()\n",
    "    plt.subplots_adjust(hspace=0.35)\n",
    "    plt.rcParams['figure.figsize'] = [10, 8]\n",
    "    plt.show()"
   ]
  },
  {
   "cell_type": "code",
   "execution_count": 123,
   "metadata": {},
   "outputs": [
    {
     "data": {
      "image/png": "[encoded data removed]",
      "text/plain": [
       "<Figure size 432x288 with 1 Axes>"
      ]
     },
     "metadata": {
      "needs_background": "light"
     },
     "output_type": "display_data"
    }
   ],
   "source": [
    "left = list(df[df[\"label\"]==\"left\"][\"accX\"].values)\n",
    "front = list(df[df[\"label\"]==\"front\"][\"accX\"].values)\n",
    "right = list(df[df[\"label\"]==\"right\"][\"accX\"].values)\n",
    "\n",
    "plotDatasets([left, front, right], \n",
    "            [\"left\", \"front\", \"right\"],\n",
    "            'Low-pass filter @ 0.3Hz, envelope follower with 50 sample window, low-pass of env with same cutoff, and peak detector',\n",
    "            'Samples [%s Hz]' % (100),\n",
    "            ['c', 'r', 'b'])"
   ]
  },
  {
   "cell_type": "code",
   "execution_count": null,
   "metadata": {},
   "outputs": [],
   "source": []
  },
  {
   "cell_type": "code",
   "execution_count": null,
   "metadata": {},
   "outputs": [],
   "source": []
  }
 ],
 "metadata": {
  "kernelspec": {
   "display_name": "GestureIOSData",
   "language": "python",
   "name": "gestureiosdata"
  },
  "language_info": {
   "codemirror_mode": {
    "name": "ipython",
    "version": 3
   },
   "file_extension": ".py",
   "mimetype": "text/x-python",
   "name": "python",
   "nbconvert_exporter": "python",
   "pygments_lexer": "ipython3",
   "version": "3.7.2"
  }
 },
 "nbformat": 4,
 "nbformat_minor": 2
}
